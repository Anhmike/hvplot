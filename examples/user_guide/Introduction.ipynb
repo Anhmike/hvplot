{
 "cells": [
  {
   "cell_type": "markdown",
   "metadata": {},
   "source": [
    "The PyData ecosystem has a number of core data containers that allow users to work with a wide array of datatypes, including:\n",
    "\n",
    "* pandas: DataFrame, Series\n",
    "* streamz: DataFrame(s), Series(s)\n",
    "* dask: DataFrame, Series, Array\n",
    "* xarray: Dataset, DataArray\n",
    "* intake: DataSource\n",
    "\n",
    "Many of these libraries have the concept of a high-level plotting API that lets a user generate common plot types very easily. The native plotting APIs are generally built on matplotlib, which provides a solid foundation, but means that users miss out the benefits of modern, interactive plotting libraries like bokeh and holoviews.\n",
    "\n",
    "HoloPlot provides a high-level plotting API built on HoloViews which will provide a general and consistent API for plotting data in all the abovementioned formats."
   ]
  },
  {
   "cell_type": "markdown",
   "metadata": {},
   "source": [
    "## Using the API"
   ]
  },
  {
   "cell_type": "markdown",
   "metadata": {},
   "source": [
    "To start with we always initialize the HoloViews extension activating the bokeh backend:"
   ]
  },
  {
   "cell_type": "code",
   "execution_count": null,
   "metadata": {},
   "outputs": [],
   "source": [
    "import holoviews as hv\n",
    "hv.extension('bokeh')"
   ]
  },
  {
   "cell_type": "markdown",
   "metadata": {},
   "source": [
    "Next we will define some very simple sample data to explore:"
   ]
  },
  {
   "cell_type": "code",
   "execution_count": null,
   "metadata": {},
   "outputs": [],
   "source": [
    "import numpy as np\n",
    "import pandas as pd\n",
    "\n",
    "index = pd.date_range('1/1/2000', periods=1000)\n",
    "df = pd.DataFrame(np.random.randn(1000, 4), index=index, columns=list('ABCD'))"
   ]
  },
  {
   "cell_type": "markdown",
   "metadata": {},
   "source": [
    "Currently HoloPlot supports two ways of accessing the API:\n",
    "\n",
    "### 1. Using HoloPlot directly"
   ]
  },
  {
   "cell_type": "markdown",
   "metadata": {},
   "source": [
    "By passing the datastructure directly to the ``HoloPlot`` object we can use the plotting API without messing with the library:"
   ]
  },
  {
   "cell_type": "code",
   "execution_count": null,
   "metadata": {},
   "outputs": [],
   "source": [
    "import holoplot\n",
    "\n",
    "plot = holoplot.HoloPlot(df.cumsum())\n",
    "plot()"
   ]
  },
  {
   "cell_type": "markdown",
   "metadata": {},
   "source": [
    "### 2. Patching the library"
   ]
  },
  {
   "cell_type": "markdown",
   "metadata": {},
   "source": [
    "Another option is to use to monkey-patch the underlying library, currently 'pandas', 'dask', 'streamz' and 'intake' are supported. There are two ways of applying the patch, either the ``holoplot.patch`` method can be called directly with the library(s) to patch or we can simply import the corresponding module, e.g. importing ``holoplot.pandas``:"
   ]
  },
  {
   "cell_type": "code",
   "execution_count": null,
   "metadata": {},
   "outputs": [],
   "source": [
    "import holoplot.pandas\n",
    "\n",
    "# Equivalent to: holoplot.patch('pandas')\n",
    "\n",
    "df.cumsum().plot()"
   ]
  },
  {
   "cell_type": "markdown",
   "metadata": {},
   "source": [
    "### Next steps\n",
    "\n",
    "Now that we understand the basics about the plotting API let's jump straight in and discover what we can do with it in the [Plotting API](Plotting_API.ipynb) section."
   ]
  }
 ],
 "metadata": {
  "kernelspec": {
   "display_name": "Python 3",
   "language": "python",
   "name": "python3"
  },
  "language_info": {
   "codemirror_mode": {
    "name": "ipython",
    "version": 3
   },
   "file_extension": ".py",
   "mimetype": "text/x-python",
   "name": "python",
   "nbconvert_exporter": "python",
   "pygments_lexer": "ipython3",
   "version": "3.6.4"
  }
 },
 "nbformat": 4,
 "nbformat_minor": 2
}
