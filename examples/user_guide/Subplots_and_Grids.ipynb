{
 "cells": [
  {
   "cell_type": "code",
   "execution_count": null,
   "metadata": {},
   "outputs": [],
   "source": [
    "import intake\n",
    "import numpy as np\n",
    "import xarray as xr\n",
    "import holoplot.pandas\n",
    "import holoplot.xarray"
   ]
  },
  {
   "cell_type": "markdown",
   "metadata": {},
   "source": [
    "## Subplots"
   ]
  },
  {
   "cell_type": "markdown",
   "metadata": {},
   "source": [
    "When plotting multiple columns HoloPlot will usually overlay the plots onto one axis, however sometimes this can be visually overwhelming. As an alternative it is also possible to generate multiple subplots instead by using the ``subplots`` option:"
   ]
  },
  {
   "cell_type": "code",
   "execution_count": null,
   "metadata": {},
   "outputs": [],
   "source": [
    "crime = intake.cat.us_crime.get().read()\n",
    "crime.plot(x='Year', y=['Violent Crime rate', 'Robbery rate', 'Burglary rate'], subplots=True, width=350, value_label='Rate')"
   ]
  },
  {
   "cell_type": "markdown",
   "metadata": {},
   "source": [
    "Note that by default the axes between the plots will be linked, this can be disabled with the ``shared_axes`` option. The same approach is also possible when using the ``by`` keyword to group the data along a dimension: "
   ]
  },
  {
   "cell_type": "code",
   "execution_count": null,
   "metadata": {},
   "outputs": [],
   "source": [
    "flights = intake.cat.airline_flights.get().read()\n",
    "\n",
    "subset = flights[flights.carrier.isin([b'OH', b'F9', b'US'])]\n",
    "\n",
    "subset.plot.scatter(x='arrdelay', y='depdelay', by='carrier', subplots=True, width=350, alpha=0.1)"
   ]
  },
  {
   "cell_type": "markdown",
   "metadata": {},
   "source": [
    "## Grid"
   ]
  },
  {
   "cell_type": "markdown",
   "metadata": {},
   "source": [
    "Another option to lay out plots on a page are the ``row`` and ``col`` keywords, which allow declaring that a dimension of the data should be laid out as the rows or columns of a grid. This allows exploring multi-dimensional data quickly and easily:"
   ]
  },
  {
   "cell_type": "code",
   "execution_count": null,
   "metadata": {},
   "outputs": [],
   "source": [
    "subset.sort_values('dayofweek').plot.scatter(x='arrdelay', y='depdelay', row='dayofweek', col='carrier', width=150, height=150, alpha=0.2)"
   ]
  },
  {
   "cell_type": "markdown",
   "metadata": {},
   "source": [
    "Note that currently it is only possible to declare both ``row`` and ``col`` or to declare just ``col`` on it's own, since a row based layout is not yet supported. If we do not require an x-axis and y-axis for each plot we can disable it with the ``xaxis`` and ``yaxis`` options:"
   ]
  },
  {
   "cell_type": "code",
   "execution_count": null,
   "metadata": {},
   "outputs": [],
   "source": [
    "air_ds = xr.tutorial.load_dataset('air_temperature')\n",
    "air_ds.air.isel(time=slice(0, 5)).plot(colorbar=False, col='time', width=200, height=150, xaxis=False, yaxis=False)"
   ]
  }
 ],
 "metadata": {
  "kernelspec": {
   "display_name": "Python 3",
   "language": "python",
   "name": "python3"
  },
  "language_info": {
   "codemirror_mode": {
    "name": "ipython",
    "version": 3
   },
   "file_extension": ".py",
   "mimetype": "text/x-python",
   "name": "python",
   "nbconvert_exporter": "python",
   "pygments_lexer": "ipython3",
   "version": "3.6.4"
  }
 },
 "nbformat": 4,
 "nbformat_minor": 2
}
