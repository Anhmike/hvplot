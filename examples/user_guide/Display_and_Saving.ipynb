{
 "cells": [
  {
   "cell_type": "code",
   "execution_count": null,
   "metadata": {},
   "outputs": [],
   "source": [
    "import intake\n",
    "import holoplot\n",
    "import holoplot.intake"
   ]
  },
  {
   "cell_type": "markdown",
   "metadata": {},
   "source": [
    "HoloPlot is written to work well when working inside the notebook, from the commandline or inside a script. In this user guide we will discover how to use the plotting API in each of these cases and how to save the plots to a separate file."
   ]
  },
  {
   "cell_type": "markdown",
   "metadata": {},
   "source": [
    "## Notebook"
   ]
  },
  {
   "cell_type": "markdown",
   "metadata": {},
   "source": [
    "In the notebook the plot API will simply return HoloViews objects which display themselves as long as the extension has been loaded. The simplest way of loading the extension is to simply import one of the backends (as shown above): \n",
    "\n",
    "```python\n",
    "import holoplot.intake\n",
    "```\n",
    "\n",
    "Once the extension is loaded the objects returned by the plot API can be composed and will display themselves when the object is on the last line of a cell:"
   ]
  },
  {
   "cell_type": "code",
   "execution_count": null,
   "metadata": {},
   "outputs": [],
   "source": [
    "violent_crime = intake.cat.us_crime.plot(x='Year', y='Violent Crime rate', width=400)\n",
    "burglaries = intake.cat.us_crime.plot(x='Year', y='Burglary rate', width=400)\n",
    "\n",
    "violent_crime + burglaries"
   ]
  },
  {
   "cell_type": "markdown",
   "metadata": {},
   "source": [
    "To display the object from inside a function we can instead call the ``holoplot.display`` function. The ``display`` function also supports an ``display_id`` in the notebook (for JupyterLab and classic Jupyter Notebook versions >5.5), which allows us to obtain a handle for the plot:"
   ]
  },
  {
   "cell_type": "code",
   "execution_count": null,
   "metadata": {},
   "outputs": [],
   "source": [
    "handle = holoplot.display(violent_crime, display_id='example')"
   ]
  },
  {
   "cell_type": "markdown",
   "metadata": {},
   "source": [
    "This display handle may then be updated with another HoloViews object replacing the plot:\n",
    "\n",
    "```python\n",
    "handle.update(burglaries)\n",
    "```"
   ]
  },
  {
   "cell_type": "markdown",
   "metadata": {},
   "source": [
    "## Commandline & Scripts\n",
    "\n",
    "When working outside the notebook we can instead use the ``holoplot.show`` function, which will open the plot in a new browser window:\n",
    "\n",
    "<img src=\"../assets/console.png\" style=\"display: table; margin: 0 auto;\"></img>\n",
    "\n",
    "For static plots this will simply save a temporary file and open it, however for dynamic and datashaded plots it will automatically launch a bokeh server, enabling all the dynamic features.\n",
    "\n",
    "<img src=\"../assets/console_server.gif\" style=\"display: table; margin: 0 auto;\"></img>\n",
    "\n",
    "## Saving plots"
   ]
  },
  {
   "cell_type": "markdown",
   "metadata": {},
   "source": [
    "HoloPlot also provides a convenient ``save`` function which will save HoloViews objects to file. By default it will save the plot to HTML:"
   ]
  },
  {
   "cell_type": "code",
   "execution_count": null,
   "metadata": {},
   "outputs": [],
   "source": [
    "hex_bins = intake.cat.airline_flights.plot.hexbin(x='airtime', y='arrdelay', colorbar=True, width=600, height=500)\n",
    "\n",
    "holoplot.save(hex_bins, 'test.html')"
   ]
  },
  {
   "cell_type": "markdown",
   "metadata": {},
   "source": [
    "By default an HTML export will load BokehJS from CDN, to override the default declare the desired resources by supplying one of the valid ``bokeh.resources`` objects such as ``INLINE`` and ``CDN``:"
   ]
  },
  {
   "cell_type": "code",
   "execution_count": null,
   "metadata": {},
   "outputs": [],
   "source": [
    "from bokeh.resources import INLINE\n",
    "holoplot.save(hex_bins, 'test.html', resources=INLINE)"
   ]
  },
  {
   "cell_type": "markdown",
   "metadata": {},
   "source": [
    "Finally if a 'png' file extension is specified the plot will be saved to png if Selenium and PhantomJS are installed:"
   ]
  },
  {
   "cell_type": "code",
   "execution_count": null,
   "metadata": {},
   "outputs": [],
   "source": [
    "holoplot.save(hex_bins, 'test.png')"
   ]
  }
 ],
 "metadata": {
  "kernelspec": {
   "display_name": "Python 3",
   "language": "python",
   "name": "python3"
  },
  "language_info": {
   "codemirror_mode": {
    "name": "ipython",
    "version": 3
   },
   "file_extension": ".py",
   "mimetype": "text/x-python",
   "name": "python",
   "nbconvert_exporter": "python",
   "pygments_lexer": "ipython3",
   "version": "3.6.4"
  }
 },
 "nbformat": 4,
 "nbformat_minor": 2
}
