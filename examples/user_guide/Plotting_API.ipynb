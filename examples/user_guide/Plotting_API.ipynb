{
 "cells": [
  {
   "cell_type": "code",
   "execution_count": null,
   "metadata": {},
   "outputs": [],
   "source": [
    "import intake\n",
    "import numpy as np\n",
    "import holoplot.intake"
   ]
  },
  {
   "cell_type": "markdown",
   "metadata": {},
   "source": [
    "As we discovered in the [Introduction](Introduction.ipynb) HoloPlot provides two ways of working. For convenience we will stick with the patching approach here and for demonstration purposes we will use the ``intake`` library which is Python API for bulk loading of data using a declarative yaml specification. To begin with we patch intake with the HoloPlot API (and load the bokeh extension):"
   ]
  },
  {
   "cell_type": "markdown",
   "metadata": {},
   "source": [
    "Now that we have patched intake's ``DataSource`` objects we can start playing with the plot API, which attempts to mirror the pandas plotting API, but instead of plotting with matplotlib uses HoloViews to generate both static and dynamically streaming bokeh plots. To support plotting streaming data you can use this interface either in a Jupyter notebook or deploy it as a bokeh server app.\n",
    "\n",
    "For additional information about working and plotting with HoloViews see the [User Guide](http://holoviews.org/user_guide/index.html), as we will focus on using the high-level plotting API in this overview and skip most of the mechanics going on behind the scenes.\n",
    "\n",
    "We will be focusing on three different datasets:\n",
    "\n",
    "- A small CSV file of US State level crime data\n",
    "- A parquet file of airline data"
   ]
  },
  {
   "cell_type": "code",
   "execution_count": null,
   "metadata": {},
   "outputs": [],
   "source": [
    "crime = intake.cat.us_crime\n",
    "flights = intake.cat.airline_flights"
   ]
  },
  {
   "cell_type": "markdown",
   "metadata": {},
   "source": [
    "## The plot interface"
   ]
  },
  {
   "cell_type": "markdown",
   "metadata": {},
   "source": [
    "The ``DataSource.plot`` interface provides a powerful high-level API to generate complex plots. The ``.plot`` API can be called directly or used as a namespace to generate specific plot types."
   ]
  },
  {
   "cell_type": "markdown",
   "metadata": {},
   "source": [
    "### The plot method"
   ]
  },
  {
   "cell_type": "markdown",
   "metadata": {},
   "source": [
    "The simplest way to use the plotting API is to specify the names of columns to plot on the ``x``- and ``y``-axis respectively:"
   ]
  },
  {
   "cell_type": "code",
   "execution_count": null,
   "metadata": {},
   "outputs": [],
   "source": [
    "crime.plot(x='Year', y='Violent Crime rate')"
   ]
  },
  {
   "cell_type": "markdown",
   "metadata": {},
   "source": [
    "An additional convenience on top of this explicit API is to specify an additional ``by`` variable, which groups the data by one or more additional columns. As an example here we will plot the departure delay ('depdelay') as a function of 'distance' and group the data by the 'carrier' (and then select just a subset of carriers):"
   ]
  },
  {
   "cell_type": "code",
   "execution_count": null,
   "metadata": {
    "scrolled": true
   },
   "outputs": [],
   "source": [
    "flights.plot(x='distance', y='depdelay', by='carrier', kind='scatter', alpha=0.2).select(carrier=[b'OH', b'F9'])"
   ]
  },
  {
   "cell_type": "markdown",
   "metadata": {},
   "source": [
    "This approach differs slightly from the usual pandas plotting API, which usually assumes that the dataframe has a meaningful index and the columns represent similar observations. We can reproduce this functionality by enabling the ``use_index`` option and declaring the columns to plot (by default it will use all columns). The ``use_index`` can either be set to ``True`` in which case it will use the actual index or reference a column in which case it will be treated like the index. In this approach the y-axis will receive a default label named 'value' however we can already override the label using the ``value_label`` option.\n",
    "\n",
    "Putting all of this together we will plot the violent crime, robbery and burglary rates, treating the 'Year' as the index and relabel the y-axis to display the 'Rate'."
   ]
  },
  {
   "cell_type": "code",
   "execution_count": null,
   "metadata": {},
   "outputs": [],
   "source": [
    "crime.plot(index='Year', columns=['Violent Crime rate', 'Robbery rate', 'Burglary rate'],\n",
    "                  value_label='Rate (per 100k people)')"
   ]
  },
  {
   "cell_type": "markdown",
   "metadata": {},
   "source": [
    "### The plot namespace"
   ]
  },
  {
   "cell_type": "markdown",
   "metadata": {},
   "source": [
    "Instead of using the ``kind`` argument to the plot call, we can also use the ``plot`` namespace, which lets us easily discover the range of plot types that are supported including:\n",
    "\n",
    "* <a href=\"#Area\">``area``</a>: Plots a  area chart similar to a line chart except the area under the curve and allows stacking \n",
    "* <a href=\"#Bars\">``bar``</a>: Plots a bar chart which can be stacked or grouped\n",
    "* <a href=\"#Box-Whisker-Plots\">``box``</a>: Plots a box-whisker chart comparing the distribution of one or more variables\n",
    "* <a href=\"#HeatMap\">``heatmap``</a>: Plots a heatmap to visualizing a variable across two independent dimensions\n",
    "* <a href=\"#HexBins\">``hexbins``</a>: Plots hex bins\n",
    "* <a href=\"#Histogram\">``histogram``</a>: Plots the distribution of one or histograms as a set of bins\n",
    "* <a href=\"#KDE\">``kde``</a>: Plots the kernel density estimate of one or more variables.\n",
    "* <a href=\"#The-plot-method\">``line``</a>: Plots a line chart most commonly used for timeseries\n",
    "* <a href=\"#Scatter\">``scatter``</a>: Plots a scatter chart comparing two variables\n",
    "* <a href=\"#Tables\">``table``</a>: Generates a SlickGrid DataTable\n",
    "* <a href=\"#Violin-Plots\">``violin``</a>: Plots a violin plot comparing the distribution of one or more variables by plotting the kernel density estimate"
   ]
  },
  {
   "cell_type": "markdown",
   "metadata": {},
   "source": [
    "#### Area"
   ]
  },
  {
   "cell_type": "markdown",
   "metadata": {},
   "source": [
    "Like most other plot types the ``area`` chart supports the three ways of defining a plot outlined above. An area chart is most useful when plotting multiple variables in a stacked chart. This can be achieve by specifying ``x``, ``y`` and ``by`` columns or using the ``index``/``use_index`` and ``columns`` options:"
   ]
  },
  {
   "cell_type": "code",
   "execution_count": null,
   "metadata": {
    "scrolled": true
   },
   "outputs": [],
   "source": [
    "crime.plot.area(index='Year', columns=['Robbery', 'Aggravated assault'], stacked=True)"
   ]
  },
  {
   "cell_type": "markdown",
   "metadata": {},
   "source": [
    "We can also explicitly set ``stacked`` to False and define an ``alpha`` value to compare the values directly:"
   ]
  },
  {
   "cell_type": "code",
   "execution_count": null,
   "metadata": {},
   "outputs": [],
   "source": [
    "crime.plot.area(index='Year', columns=['Robbery', 'Aggravated assault'], stacked=False, alpha=0.6)"
   ]
  },
  {
   "cell_type": "markdown",
   "metadata": {},
   "source": [
    "#### Bars"
   ]
  },
  {
   "cell_type": "markdown",
   "metadata": {},
   "source": [
    "In the simplest case we can use ``source.plot.bar`` method to plot ``x`` against ``y``:"
   ]
  },
  {
   "cell_type": "code",
   "execution_count": null,
   "metadata": {},
   "outputs": [],
   "source": [
    "crime.plot.bar('Year', 'Violent Crime rate', rot=90)"
   ]
  },
  {
   "cell_type": "markdown",
   "metadata": {},
   "source": [
    "If we want to compare multiple columns instead we can again use the ``use_index`` option to treat the 'Year' column as the index and then compare the specific columns. Using the ``stacked`` option we can then compare the column values more easily:"
   ]
  },
  {
   "cell_type": "code",
   "execution_count": null,
   "metadata": {},
   "outputs": [],
   "source": [
    "crime.plot.bar(index='Year', columns=['Violent crime total', 'Property crime total'],\n",
    "               stacked=True, rot=90, width=800)"
   ]
  },
  {
   "cell_type": "markdown",
   "metadata": {},
   "source": [
    "#### Scatter"
   ]
  },
  {
   "cell_type": "markdown",
   "metadata": {},
   "source": [
    "The scatter plot supports all the same features as the other chart types we have seen so far but can also be colored by another variable using the ``c`` option and allows declaring a ``cmap``."
   ]
  },
  {
   "cell_type": "code",
   "execution_count": null,
   "metadata": {},
   "outputs": [],
   "source": [
    "crime.plot.scatter('Violent Crime rate', 'Burglary rate', c='Year', cmap='viridis', size=6)"
   ]
  },
  {
   "cell_type": "markdown",
   "metadata": {},
   "source": [
    "#### HexBins"
   ]
  },
  {
   "cell_type": "markdown",
   "metadata": {},
   "source": [
    "You can create hexagonal bin plots with the ``hexbin`` method. Hexbin plots can be a useful alternative to scatter plots if your data are too dense to plot each point individually."
   ]
  },
  {
   "cell_type": "code",
   "execution_count": null,
   "metadata": {},
   "outputs": [],
   "source": [
    "flights.plot.hexbin(x='airtime', y='arrdelay', colorbar=True, width=600, height=500)"
   ]
  },
  {
   "cell_type": "markdown",
   "metadata": {},
   "source": [
    "#### HeatMap"
   ]
  },
  {
   "cell_type": "markdown",
   "metadata": {},
   "source": [
    "A ``HeatMap`` on the other hand lets us view the relationship between three variables so we specify the 'x' and 'y' variables and an additional 'C' variable. Additionally we can define a ``reduce_function`` which computes the values in each bin. Here we plot the 'depdelay' (i.e. departure delay) for each day of the month and carrier in the dataset:"
   ]
  },
  {
   "cell_type": "code",
   "execution_count": null,
   "metadata": {},
   "outputs": [],
   "source": [
    "flights.plot.heatmap(x='day', y='carrier', C='depdelay', reduce_function=np.mean,\n",
    "                     colorbar=True, use_dask=False).sort()"
   ]
  },
  {
   "cell_type": "markdown",
   "metadata": {},
   "source": [
    "#### Tables\n",
    "\n",
    "Unlike all other plot types a table only supports one signature, either all columns are plotted or a subset of columns can be selected by defining the ``columns`` explicitly:"
   ]
  },
  {
   "cell_type": "code",
   "execution_count": null,
   "metadata": {},
   "outputs": [],
   "source": [
    "crime.plot.table(columns=['Year', 'Population', 'Violent Crime rate'], width=400)"
   ]
  },
  {
   "cell_type": "markdown",
   "metadata": {},
   "source": [
    "### Distributions\n",
    "\n",
    "Plotting distributions differs slightly from other plots since they plot only one variable in the simple case rather than plotting two or more variables against each other. Therefore when plotting these plot types no ``index`` or ``x`` value needs to be supplied:\n",
    "\n",
    "1. Declare a single ``y`` variable, e.g. ``source.plot.hist(variable)``\n",
    "2. Declare a ``y`` variable and ``by`` variable, e.g. ``source.plot.hist(variable, by='Group')``\n",
    "3. Declare columns or plot all columns, e.g. ``source.plot.hist()`` or ``source.plot.hist(columns=['A', 'B', 'C'])``\n",
    "\n",
    "#### Histogram\n",
    "\n",
    "The Histogram is the simplest example of this, often we simply plot the distribution of a single variable, in this case the 'Violent Crime rate'. Additionally we can define a range over which to compute the histogram and the number of bins using the ``bin_range`` and ``bins`` arguments respectively:"
   ]
  },
  {
   "cell_type": "code",
   "execution_count": null,
   "metadata": {},
   "outputs": [],
   "source": [
    "crime.plot.hist('Violent Crime rate', bin_range=(100, 800), bins=20)"
   ]
  },
  {
   "cell_type": "markdown",
   "metadata": {},
   "source": [
    "Alternatively we can plot the distribution of multiple columns:"
   ]
  },
  {
   "cell_type": "code",
   "execution_count": null,
   "metadata": {
    "scrolled": true
   },
   "outputs": [],
   "source": [
    "columns=['Violent Crime rate', 'Property crime rate', 'Burglary rate']\n",
    "crime.plot.hist(columns=columns, bins=20, alpha=0.5)"
   ]
  },
  {
   "cell_type": "markdown",
   "metadata": {},
   "source": [
    "Finally we can also group the data by another variable:"
   ]
  },
  {
   "cell_type": "code",
   "execution_count": null,
   "metadata": {},
   "outputs": [],
   "source": [
    "flights.plot.hist('depdelay', by='carrier', bins=20, bin_range=(-20, 100), alpha=0.3).\\\n",
    "  select(carrier=[b'AA', b'US', b'OH'])"
   ]
  },
  {
   "cell_type": "markdown",
   "metadata": {},
   "source": [
    "#### KDE"
   ]
  },
  {
   "cell_type": "markdown",
   "metadata": {},
   "source": [
    "You can also create density plots using ``DataSource.plot.kde()`` method:"
   ]
  },
  {
   "cell_type": "code",
   "execution_count": null,
   "metadata": {},
   "outputs": [],
   "source": [
    "crime.plot.kde('Violent Crime rate')"
   ]
  },
  {
   "cell_type": "markdown",
   "metadata": {},
   "source": [
    "Comparing the distribution of multiple columns is also possible:"
   ]
  },
  {
   "cell_type": "code",
   "execution_count": null,
   "metadata": {},
   "outputs": [],
   "source": [
    "columns=['Violent Crime rate', 'Property crime rate', 'Burglary rate']\n",
    "crime.plot.kde(columns=columns, alpha=0.5, value_label='Rate')"
   ]
  },
  {
   "cell_type": "markdown",
   "metadata": {},
   "source": [
    "The ``DataSource.plot.kde`` also supports the ``by`` keyword:"
   ]
  },
  {
   "cell_type": "code",
   "execution_count": null,
   "metadata": {},
   "outputs": [],
   "source": [
    "flights.plot.kde('depdelay', by='carrier', alpha=0.3)\\\n",
    "   .select(carrier=[b'AA', b'US', b'OH']).redim.range(depdelay=(-20, 70))"
   ]
  },
  {
   "cell_type": "markdown",
   "metadata": {},
   "source": [
    "#### Box-Whisker Plots"
   ]
  },
  {
   "cell_type": "markdown",
   "metadata": {},
   "source": [
    "Just like the other distribution based plot types the box-whisker plot supports plotting a single column:"
   ]
  },
  {
   "cell_type": "code",
   "execution_count": null,
   "metadata": {},
   "outputs": [],
   "source": [
    "crime.plot.box('Violent Crime rate', invert=True)"
   ]
  },
  {
   "cell_type": "markdown",
   "metadata": {},
   "source": [
    "It also supports multiple columns:"
   ]
  },
  {
   "cell_type": "code",
   "execution_count": null,
   "metadata": {},
   "outputs": [],
   "source": [
    "columns=['Burglary rate', 'Larceny-theft rate', 'Motor vehicle theft rate',\n",
    "         'Property crime rate', 'Violent Crime rate']\n",
    "crime.plot.box(columns=columns, group_label='Crime', legend=False, value_label='Rate (per 100k)', invert=True)"
   ]
  },
  {
   "cell_type": "markdown",
   "metadata": {},
   "source": [
    "Lastly, it also supports using the ``by`` keyword to split the data into multiple subsets:"
   ]
  },
  {
   "cell_type": "code",
   "execution_count": null,
   "metadata": {},
   "outputs": [],
   "source": [
    "flights.plot.box('depdelay', by='carrier')\\\n",
    "   .select(carrier=[b'AA', b'US', b'OH']).redim.range(depdelay=(-10, 70))"
   ]
  },
  {
   "cell_type": "markdown",
   "metadata": {},
   "source": [
    "## Composing Plots"
   ]
  },
  {
   "cell_type": "markdown",
   "metadata": {},
   "source": [
    "One of the core strengths of HoloViews is the ease of composing\n",
    "different plots. Individual plots can be composed using the ``*`` and\n",
    "``+`` operators, which overlay and compose plots into layouts\n",
    "respectively. For more information on composing objects see the\n",
    "HoloViews [User Guide](http://holoviews.org/user_guide/Composing_Elements.html).\n",
    "\n",
    "By using these operators we can combine multiple plots into composite plots, a simple example is overlaying two plot types:"
   ]
  },
  {
   "cell_type": "code",
   "execution_count": null,
   "metadata": {},
   "outputs": [],
   "source": [
    "crime.plot('Year', 'Violent Crime rate') * crime.plot.scatter('Year', 'Violent Crime rate', size=8)"
   ]
  },
  {
   "cell_type": "markdown",
   "metadata": {},
   "source": [
    "We can also lay out different plots and tables together:"
   ]
  },
  {
   "cell_type": "code",
   "execution_count": null,
   "metadata": {},
   "outputs": [],
   "source": [
    "(crime.plot.bar('Year', 'Violent Crime rate', rot=90, width=550) +\n",
    " crime.plot.table(['Year', 'Population', 'Violent Crime rate'], width=420))"
   ]
  },
  {
   "cell_type": "markdown",
   "metadata": {},
   "source": [
    "## Large data"
   ]
  },
  {
   "cell_type": "markdown",
   "metadata": {},
   "source": [
    "The previous examples summarized the fairly large airline dataset using statistical plot types, however if we do not want to summarize the data and view all of the raw data at once we will have to use datashader to generate a fixed size image of the data. Here we plot the 'airtime' against the 'distance':"
   ]
  },
  {
   "cell_type": "code",
   "execution_count": null,
   "metadata": {},
   "outputs": [],
   "source": [
    "flights.plot.scatter('distance', 'airtime', datashade=True)"
   ]
  },
  {
   "cell_type": "markdown",
   "metadata": {},
   "source": [
    "## Groupby"
   ]
  },
  {
   "cell_type": "markdown",
   "metadata": {},
   "source": [
    "Thanks to the ability of HoloViews to explore a parameter space with a set of widgets we can apply a groupby along a particular column or dimension. For example we can view the distribution of departure delays by carrier grouped by day:"
   ]
  },
  {
   "cell_type": "code",
   "execution_count": null,
   "metadata": {},
   "outputs": [],
   "source": [
    "flights.plot.violin('depdelay', by='carrier', groupby='dayofweek', ylim=(-20, 60), height=500, dynamic=False)"
   ]
  },
  {
   "cell_type": "markdown",
   "metadata": {},
   "source": [
    "## Customizing the visualization\n",
    "\n",
    "In addition to specific options for different plot types the plotting\n",
    "API exposes a number of general options including:\n",
    "\n",
    "- ``colorbar`` (default=False): Enables colorbar\n",
    "- ``grid`` (default=False): Whether to show a grid\n",
    "- ``hover`` (default=True): Whether to show hover tooltips\n",
    "- ``invert`` (default=False): Swaps x- and y-axis\n",
    "- ``legend`` (default=True): Whether to show a legend\n",
    "- ``logx``/``logy`` (default=False): Enables logarithmic x- and y-axis respectively\n",
    "- ``loglog`` (default=False): Enables logarithmic x- and y-axis\n",
    "- ``shared_axes`` (default=False): Whether to link axes between plots\n",
    "- ``title`` (default=''): Title for the plot\n",
    "- ``xlim``/``ylim`` (default=None): Plot limits of the x- and y-axis\n",
    "- ``xticks``/``yticks`` (default=None): Ticks along x- and y-axis specified as an integer, list of ticks postions, or list of tuples of the tick positions and labels\n",
    "- ``width`` (default=800)/``height`` (default=300): The width and height of the plot in pixels\n",
    "\n",
    "In addition, options can be passed directly to HoloViews providing\n",
    "greater control over the plots. The options can be provided as\n",
    "dictionaries via the ``plot_opts`` and ``style_opts`` keyword\n",
    "arguments. You can also apply options using the HoloViews API (for\n",
    "more information see the HoloViews [User Guide](http://holoviews.org/user_guide/Customizing_Plots.html).\n"
   ]
  }
 ],
 "metadata": {
  "kernelspec": {
   "display_name": "Python 3",
   "language": "python",
   "name": "python3"
  },
  "language_info": {
   "codemirror_mode": {
    "name": "ipython",
    "version": 3
   },
   "file_extension": ".py",
   "mimetype": "text/x-python",
   "name": "python",
   "nbconvert_exporter": "python",
   "pygments_lexer": "ipython3",
   "version": "3.6.4"
  },
  "nbsphinx": {
   "timeout": 120
  }
 },
 "nbformat": 4,
 "nbformat_minor": 2
}
