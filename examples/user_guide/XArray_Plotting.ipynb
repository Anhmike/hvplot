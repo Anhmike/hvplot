{
 "cells": [
  {
   "cell_type": "code",
   "execution_count": null,
   "metadata": {},
   "outputs": [],
   "source": [
    "import numpy as np\n",
    "import xarray as xr\n",
    "import holoplot.xarray"
   ]
  },
  {
   "cell_type": "markdown",
   "metadata": {},
   "source": [
    "XArray provides a convenient and very powerful wrapper to label the axis and coordinates of nd-arrays. It therefore differs significantly from the other data types supported by HoloPlot. This user guide will cover how to visualize and explore data of different dimensionality ranging from simple 1D data, to 2D image-like data to multi-dimensional cubes of data.\n",
    "\n",
    "For these examples we’ll use the North American air temperature dataset:"
   ]
  },
  {
   "cell_type": "code",
   "execution_count": null,
   "metadata": {},
   "outputs": [],
   "source": [
    "air_ds = xr.tutorial.load_dataset('air_temperature')\n",
    "air = air_ds.air\n",
    "air_ds"
   ]
  },
  {
   "cell_type": "markdown",
   "metadata": {},
   "source": [
    "## 1D Plots"
   ]
  },
  {
   "cell_type": "markdown",
   "metadata": {},
   "source": [
    "Selecting the data at a particular lat/lon coordinate we get a 1D dataset of air temperatures over time:"
   ]
  },
  {
   "cell_type": "code",
   "execution_count": null,
   "metadata": {},
   "outputs": [],
   "source": [
    "air1d = air.isel(lat=10, lon=10)\n",
    "air1d.plot()"
   ]
  },
  {
   "cell_type": "markdown",
   "metadata": {},
   "source": [
    "We can also further subselect the data and use HoloViews ability to overlay plots:"
   ]
  },
  {
   "cell_type": "code",
   "execution_count": null,
   "metadata": {},
   "outputs": [],
   "source": [
    "air1d_sel = air1d.isel(time=slice(0, 200))\n",
    "air1d_sel.plot(color='purple') * air1d_sel.plot.scatter(marker='o', color='purple', size=5)"
   ]
  },
  {
   "cell_type": "markdown",
   "metadata": {},
   "source": [
    "### Selecting multiple"
   ]
  },
  {
   "cell_type": "markdown",
   "metadata": {},
   "source": [
    "If we select multiple coordinates along one axis and plot a chart type the data will automatically be split by the coordinate:"
   ]
  },
  {
   "cell_type": "code",
   "execution_count": null,
   "metadata": {},
   "outputs": [],
   "source": [
    "air.isel(lon=10, lat=[19,21,22]).plot.line()"
   ]
  },
  {
   "cell_type": "markdown",
   "metadata": {},
   "source": [
    "## 2D Plots"
   ]
  },
  {
   "cell_type": "markdown",
   "metadata": {},
   "source": [
    "If the ``DataArray`` is 2D the plot method will automatically infer that the data should be displayed as an image:"
   ]
  },
  {
   "cell_type": "code",
   "execution_count": null,
   "metadata": {},
   "outputs": [],
   "source": [
    "air2d = air.isel(time=500)\n",
    "air2d.plot(colorbar=True, width=500)"
   ]
  },
  {
   "cell_type": "markdown",
   "metadata": {},
   "source": [
    "## 3(+)D Plots"
   ]
  },
  {
   "cell_type": "markdown",
   "metadata": {},
   "source": [
    "If the data has more than two dimensions it will automatically apply a ``groupby`` along any remaining dimensions, allowing the value be selected via a a slider:"
   ]
  },
  {
   "cell_type": "code",
   "execution_count": null,
   "metadata": {},
   "outputs": [],
   "source": [
    "air.plot(colorbar=True, width=500)"
   ]
  },
  {
   "cell_type": "markdown",
   "metadata": {},
   "source": [
    "## Statistical plots"
   ]
  },
  {
   "cell_type": "markdown",
   "metadata": {},
   "source": [
    "Statistical plots such as histograms, kernel-density estimates or violin and box-whisker plots aggregate the data across one or more of the coordinate dimensions, e.g. plotting a histogram provides a summary of all the air temperature values:"
   ]
  },
  {
   "cell_type": "code",
   "execution_count": null,
   "metadata": {},
   "outputs": [],
   "source": [
    "air.plot.hist()"
   ]
  },
  {
   "cell_type": "markdown",
   "metadata": {},
   "source": [
    "Using the ``by`` keyword we can break down the distribution of the air temperature across one or more variables:"
   ]
  },
  {
   "cell_type": "code",
   "execution_count": null,
   "metadata": {},
   "outputs": [],
   "source": [
    "air.plot.violin('air', by='lat')"
   ]
  },
  {
   "cell_type": "markdown",
   "metadata": {},
   "source": [
    "## Datashading"
   ]
  },
  {
   "cell_type": "markdown",
   "metadata": {},
   "source": [
    "When plotting a large amount of data at once it is also possible to use the datashading abilities of plot API. By enabling datashade and declaring that the data should not be grouped by another coordinate variable we can plot all the datapoints, showing us the spread of air temperatures in the dataset. Additionally we can overlay an aggregate of the same data:"
   ]
  },
  {
   "cell_type": "code",
   "execution_count": null,
   "metadata": {},
   "outputs": [],
   "source": [
    "air.plot.scatter('time', 'air', by=[], datashade=True, use_dask=True) *\\\n",
    "air.plot.line('time', 'air', by=[], use_dask=True).aggregate(function=np.mean)"
   ]
  }
 ],
 "metadata": {
  "kernelspec": {
   "display_name": "Python 3",
   "language": "python",
   "name": "python3"
  },
  "language_info": {
   "codemirror_mode": {
    "name": "ipython",
    "version": 3
   },
   "file_extension": ".py",
   "mimetype": "text/x-python",
   "name": "python",
   "nbconvert_exporter": "python",
   "pygments_lexer": "ipython3",
   "version": "3.6.4"
  }
 },
 "nbformat": 4,
 "nbformat_minor": 2
}
